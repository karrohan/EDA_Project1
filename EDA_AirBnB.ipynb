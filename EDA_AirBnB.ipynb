{
  "nbformat": 4,
  "nbformat_minor": 0,
  "metadata": {
    "colab": {
      "provenance": [],
      "authorship_tag": "ABX9TyMYgxeiw06E+nu8FChICBv2",
      "include_colab_link": true
    },
    "kernelspec": {
      "name": "python3",
      "display_name": "Python 3"
    },
    "language_info": {
      "name": "python"
    }
  },
  "cells": [
    {
      "cell_type": "markdown",
      "metadata": {
        "id": "view-in-github",
        "colab_type": "text"
      },
      "source": [
        "<a href=\"https://colab.research.google.com/github/karrohan/EDA_Project1/blob/main/EDA_AirBnB.ipynb\" target=\"_parent\"><img src=\"https://colab.research.google.com/assets/colab-badge.svg\" alt=\"Open In Colab\"/></a>"
      ]
    },
    {
      "cell_type": "markdown",
      "source": [
        "## ***Airbnb Bookings Analysis***\n"
      ],
      "metadata": {
        "id": "WF88dulU5DdU"
      }
    },
    {
      "cell_type": "markdown",
      "source": [
        "##### <font size='5px'>**Project Type**    - **Exploratory Data Analysis**\n",
        "##### **Contribution**    - Individual"
      ],
      "metadata": {
        "id": "Nyyri9ZP5HRn"
      }
    },
    {
      "cell_type": "markdown",
      "source": [
        "# **Problem Statement**\n"
      ],
      "metadata": {
        "id": "HAHQWD6A5NTJ"
      }
    },
    {
      "cell_type": "markdown",
      "source": [
        "As Airbnb expands and grows, it is critical for the company to use data analysis to gain insights into the behavior and performance of Airbnb hosts and customers, and to use this knowledge to inform business decisions and identify opportunities for growth and innovation. The purpose is to study the aspects that generate success on Airbnb, such as effective host traits, demand for listings in different regions, and the factors that influence pricing and demand. The goal is to use data to forecast things like as demand, pricing, and the busiest hosts, as well as to find places where Airbnb may improve or expand its services. Understanding these aspects enables Airbnb to make informed decisions about how to optimize its platform and services in order to better fulfill the demands of its consumers and promote sustained development and success.\n",
        "\n",
        "\n",
        "\n",
        "\n",
        "\n",
        "\n"
      ],
      "metadata": {
        "id": "CBzMUnWB5Oo7"
      }
    },
    {
      "cell_type": "markdown",
      "source": [
        "#### **Defining our Business Objective**"
      ],
      "metadata": {
        "id": "T9vV5-wP5gP3"
      }
    },
    {
      "cell_type": "markdown",
      "source": [
        "The business goal of this project is to use data analysis to identify the characteristics of successful hosts, understand the demand for listings in different locations, identify new markets or demographics to target with marketing efforts, and predict factors such as pricing and demand.\n"
      ],
      "metadata": {
        "id": "UBIaG3Re5sHa"
      }
    },
    {
      "cell_type": "markdown",
      "source": [
        "## **Knowing the Data**"
      ],
      "metadata": {
        "id": "cNAgv_lpRoWv"
      }
    },
    {
      "cell_type": "markdown",
      "source": [
        "### Import Libraries"
      ],
      "metadata": {
        "id": "oya9CsK4SCni"
      }
    },
    {
      "cell_type": "code",
      "execution_count": null,
      "metadata": {
        "id": "GE0GZSrX5CeU"
      },
      "outputs": [],
      "source": [
        "# Import necessary Libraries\n",
        "import numpy as np\n",
        "import pandas as pd\n",
        "\n",
        "#Importing Data Visualization libraries\n",
        "import seaborn as sns\n",
        "import matplotlib.pyplot as plt\n",
        "%matplotlib inline\n",
        "import plotly.express as px\n",
        "from scipy.stats import norm\n",
        "\n",
        "# Datetime library for manipulating Date columns.\n",
        "from datetime import datetime\n",
        "import calendar\n",
        "\n",
        "# The following lines adjust the granularity of reporting.\n",
        "pd.options.display.float_format = \"{:.2f}\".format\n",
        "\n",
        "#Import warnings are issued to alert developers to potential issues with their\n",
        "#code, and it is important to address these warnings in order to avoid potential problems.\n",
        "import warnings\n",
        "warnings.filterwarnings('ignore')"
      ]
    },
    {
      "cell_type": "markdown",
      "source": [],
      "metadata": {
        "id": "3dsyW_JB5S7L"
      }
    }
  ]
}